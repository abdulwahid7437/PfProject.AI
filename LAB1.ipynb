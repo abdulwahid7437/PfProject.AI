{
  "nbformat": 4,
  "nbformat_minor": 0,
  "metadata": {
    "colab": {
      "provenance": [],
      "authorship_tag": "ABX9TyOzW0u/VyvjdnU9OMdFCtuF",
      "include_colab_link": true
    },
    "kernelspec": {
      "name": "python3",
      "display_name": "Python 3"
    },
    "language_info": {
      "name": "python"
    }
  },
  "cells": [
    {
      "cell_type": "markdown",
      "metadata": {
        "id": "view-in-github",
        "colab_type": "text"
      },
      "source": [
        "<a href=\"https://colab.research.google.com/github/abdulwahid7437/PfProject.AI/blob/main/LAB1.ipynb\" target=\"_parent\"><img src=\"https://colab.research.google.com/assets/colab-badge.svg\" alt=\"Open In Colab\"/></a>"
      ]
    },
    {
      "cell_type": "code",
      "execution_count": 1,
      "metadata": {
        "colab": {
          "base_uri": "https://localhost:8080/"
        },
        "id": "RR8IXFsFtJia",
        "outputId": "11dfdf03-3cf8-444c-de72-d2714f94bd5a"
      },
      "outputs": [
        {
          "output_type": "stream",
          "name": "stdout",
          "text": [
            "Hello World\n"
          ]
        }
      ],
      "source": [
        "print(\"Hello World\")"
      ]
    },
    {
      "cell_type": "code",
      "source": [
        "x = input(\"Enter a Number\")\n",
        "print(x)"
      ],
      "metadata": {
        "colab": {
          "base_uri": "https://localhost:8080/"
        },
        "id": "M4he87v5t55S",
        "outputId": "48c4e851-57c6-4380-96ca-1ec5a5941109"
      },
      "execution_count": 2,
      "outputs": [
        {
          "output_type": "stream",
          "name": "stdout",
          "text": [
            "Enter a Number5\n",
            "5\n"
          ]
        }
      ]
    },
    {
      "cell_type": "code",
      "source": [
        "for i in range(10):\n",
        "   print(x)"
      ],
      "metadata": {
        "colab": {
          "base_uri": "https://localhost:8080/"
        },
        "id": "2bwaRvpeuPxS",
        "outputId": "d66c91b8-5357-4864-a914-67a4c5bc23b8"
      },
      "execution_count": 5,
      "outputs": [
        {
          "output_type": "stream",
          "name": "stdout",
          "text": [
            "5\n",
            "5\n",
            "5\n",
            "5\n",
            "5\n",
            "5\n",
            "5\n",
            "5\n",
            "5\n",
            "5\n"
          ]
        }
      ]
    },
    {
      "cell_type": "code",
      "source": [
        "def name():\n",
        "  x=input(\"Enter your Name\")\n",
        "  print(\"Your Name is\",x)\n",
        "\n",
        "name()"
      ],
      "metadata": {
        "colab": {
          "base_uri": "https://localhost:8080/"
        },
        "id": "BpmRz9UcucS6",
        "outputId": "9d2c77f7-51b8-419c-8869-b85a99ba74b7"
      },
      "execution_count": 6,
      "outputs": [
        {
          "output_type": "stream",
          "name": "stdout",
          "text": [
            "Enter your NameMalik Abdul Wahid\n",
            "Your Name is Malik Abdul Wahid\n"
          ]
        }
      ]
    },
    {
      "cell_type": "code",
      "source": [
        "\n",
        "\n",
        "\n",
        "\n",
        "# Task 4 A funtiom that tells which number is greater\n",
        "def number_checker(x,y):\n",
        "    if x > y:\n",
        "        print(\"x is greater\",x)\n",
        "    else:\n",
        "        print(\"y is greater\",y)\n",
        "x = int(input(\"Enter value of x\"))\n",
        "y = int(input(\"Enter value of y\"))\n",
        "number_checker(x,y)"
      ],
      "metadata": {
        "colab": {
          "base_uri": "https://localhost:8080/"
        },
        "id": "qsvqEQjru1lS",
        "outputId": "c9bad753-6826-4f70-f58e-2dd0eef67e66"
      },
      "execution_count": 7,
      "outputs": [
        {
          "output_type": "stream",
          "name": "stdout",
          "text": [
            "Enter value of x5\n",
            "Enter value of y6\n",
            "y is greater 6\n"
          ]
        }
      ]
    },
    {
      "cell_type": "code",
      "source": [
        "\n",
        "def even_odd_checker(x):\n",
        "    if x % 2==0:\n",
        "        print(\"number is even\")\n",
        "    else:\n",
        "        print(\"number is odd\")\n",
        "\n",
        "for i in range(10):\n",
        "    x=int(input(\"Enter a number to be checked\"))\n",
        "    even_odd_checker(x)\n"
      ],
      "metadata": {
        "colab": {
          "base_uri": "https://localhost:8080/"
        },
        "id": "lUVMgRvlu96i",
        "outputId": "2ef46b68-2497-4047-d657-c8c330101812"
      },
      "execution_count": null,
      "outputs": [
        {
          "output_type": "stream",
          "name": "stdout",
          "text": [
            "Enter a number to be checked7\n",
            "number is odd\n",
            "Enter a number to be checked5\n",
            "number is odd\n",
            "Enter a number to be checked2\n",
            "number is even\n"
          ]
        }
      ]
    }
  ]
}